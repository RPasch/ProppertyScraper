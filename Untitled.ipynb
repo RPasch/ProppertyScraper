{
 "cells": [
  {
   "cell_type": "code",
   "execution_count": 1,
   "metadata": {},
   "outputs": [],
   "source": [
    "import pandas as pd\n",
    "import seaborn as sns\n",
    "from bs4 import BeautifulSoup as BS\n",
    "import requests as rq\n"
   ]
  },
  {
   "cell_type": "code",
   "execution_count": 2,
   "metadata": {},
   "outputs": [],
   "source": [
    "base_url_1 = 'https://www.property24.com/apartments-for-sale/'\n",
    "base_url_2 = '/johannesburg/gauteng/5846'\n",
    "n = 1\n",
    "pager = 'p'+str(n)\n",
    "areas = ['rosebank','norwood','parktown-north','illovo','hyde-park','parkwood','killarney','craighall-park','saxonworld','houghton-estate']\n",
    "code = ['5846','4363','4391',]"
   ]
  },
  {
   "cell_type": "code",
   "execution_count": 3,
   "metadata": {},
   "outputs": [],
   "source": [
    "page = rq.get('https://www.property24.com/apartments-for-sale/illovo/sandton/gauteng/5833?sp=so%3dPriceLow#SortOrder')"
   ]
  },
  {
   "cell_type": "code",
   "execution_count": 4,
   "metadata": {},
   "outputs": [],
   "source": [
    "all_areas_page_iter_1 = 'https://www.property24.com/apartments-for-sale/advanced-search/results/p'\n",
    "all_areas_page_iter_2= '?sp=s%3d5833%2c4388%2c5846%2c5832%2c5926%2c4390%2c5821%2c5779%2c5837%2c4391%2c4363%2c12133%26pt%3d3000000%26bd%3d2'"
   ]
  },
  {
   "cell_type": "code",
   "execution_count": 5,
   "metadata": {},
   "outputs": [],
   "source": [
    "all_areas_page = 'https://www.property24.com/apartments-for-sale/advanced-search/results?sp=s%3d5833%2c4388%2c5846%2c5832%2c5926%2c4390%2c5821%2c5779%2c5837%2c4391%2c4363%2c12133%26pt%3d3000000%26bd%3d2'"
   ]
  },
  {
   "cell_type": "code",
   "execution_count": 6,
   "metadata": {},
   "outputs": [],
   "source": [
    "rq_all_areas = rq.get(all_areas_page)"
   ]
  },
  {
   "cell_type": "code",
   "execution_count": 33,
   "metadata": {},
   "outputs": [],
   "source": [
    "soup = BS(rq_all_areas.content,'html.parser')\n",
    "listings = soup.find(\"div\", {\"data-listing-number\": True})\n",
    "a_tag = soup.find(class_='p24_adHolder')\n",
    "# listings = soup.find_all(itemprop = 'name')"
   ]
  },
  {
   "cell_type": "code",
   "execution_count": 35,
   "metadata": {},
   "outputs": [
    {
     "name": "stdout",
     "output_type": "stream",
     "text": [
      "<div class=\"p24_promotedTile js_resultTile js_pseudoLinkContainer js_rollover_container\" data-listing-number=\"P108396192\" title=\"2 Bedroom Apartment / Flat for sale in Killarney\">\n",
      "<a class=\"js_pseudoLinkHref\" href=\"/for-sale/killarney/johannesburg/gauteng/4388/108396192?plId=560676&amp;plt=2\">\n",
      "<div class=\"p24_promotedImage\">\n",
      "<img alt=\"2 Bedroom Apartment / Flat for sale in Killarney\" class=\"js_rollover_target js_rollover_default js_P24_listingImage p24_premiumImage js_lazyLoadImage\" itemprop=\"image\" src=\"https://images.prop24.com/229436666/Crop525x350\" title=\"2 Bedroom Apartment / flat for sale in Killarney - Johannesburg\"/>\n",
      "</div>\n",
      "</a>\n",
      "<a class=\"js_p24_PremiumListingAgency js_ignoreHandler\" href=\"/for-sale/killarney/johannesburg/gauteng/4388/108396192?plId=560676&amp;plt=2\" title=\"2 Bedroom Apartment\">\n",
      "<div class=\"p24_promotedContact\" style=\"background-color:#04315a\">\n",
      "<div class=\"p24_promotedLogo\" title=\"Contact Sotheby's International Realty - Craighall to sell your home\">\n",
      "<div class=\"p24_logoContainer\">\n",
      "<img alt=\"2 Bedroom Apartment / Flat for sale in Killarney\" src=\"https://images.prop24.com/216111619/Crop150x87\" title=\"2 Bedroom Apartment / Flat for sale in Killarney\"/>\n",
      "</div>\n",
      "<hr style=\"border-top-color:#ffffff\"/>\n",
      "<div class=\"p24_contactText js_contactText\" data-url-click=\"/General/ContactAgency?agencyId=4205&amp;listingNumber=108396192\" style=\"color:#ffffff\">Contact us to sell your property</div>\n",
      "</div>\n",
      "</div>\n",
      "</a>\n",
      "<a class=\"js_pseudoLinkHref\" href=\"/for-sale/killarney/johannesburg/gauteng/4388/108396192?plId=560676&amp;plt=2\">\n",
      "<div class=\"p24_content\">\n",
      "<div class=\"p24_information\">\n",
      "<div class=\"p24_price\">\n",
      "                    R 1 350 000\n",
      "                </div>\n",
      "<div class=\"p24_description\">2 Bedroom Apartment in <span class=\"p24_location\">Killarney</span></div>\n",
      "<span class=\"p24_favourite js_favourite js_disablePropagation\" data-mandate-id=\"31311864\" itemscope=\"\" itemtype=\"http://schema.org/UserLikes\">\n",
      "<svg class=\"js_favouriteToggle hide\" height=\"23\" width=\"26\">\n",
      "<image height=\"23\" src=\"/Content/images/Optimized/SPUI/spui_favourite_enabled.svg?550080\" width=\"26\" xlink:href=\"/Content/images/Optimized/SPUI/spui_favourite_enabled.svg?550080\"></image>\n",
      "</svg>\n",
      "<svg class=\"js_favouriteToggle \" height=\"23\" width=\"26\">\n",
      "<image height=\"23\" src=\"/Content/images/Optimized/SPUI/spui_favourite_disabled.svg?550080\" width=\"26\" xlink:href=\"/Content/images/Optimized/SPUI/spui_favourite_disabled.svg?550080\"></image>\n",
      "</svg>\n",
      "</span> </div>\n",
      "<div class=\"p24_icons\">\n",
      "<span class=\"p24_featureDetails\" title=\"Bedrooms\">\n",
      "<svg height=\"20\" width=\"20\">\n",
      "<image alt=\"Beds\" height=\"20\" src=\"/Content/images/Optimized/Icons/icon_bed_new.svg\" width=\"20\" xlink:href=\"/Content/images/Optimized/Icons/icon_bed_new.svg\"></image>\n",
      "</svg>\n",
      "<span>2</span>\n",
      "</span>\n",
      "<span class=\"p24_featureDetails\" title=\"Bathrooms\">\n",
      "<svg class=\"p24_bathroomIcon\" height=\"20\" width=\"20\">\n",
      "<image alt=\"Bathroom\" height=\"20\" src=\"/Content/images/Optimized/Icons/icon_bath_new.svg\" width=\"20\" xlink:href=\"/Content/images/Optimized/Icons/icon_bath_new.svg\"></image>\n",
      "</svg>\n",
      "<span>2</span>\n",
      "</span>\n",
      "<span class=\"p24_size\" title=\"Floor Size\">\n",
      "<img alt=\"Floor Size\" class=\"p24_sizeIcon\" src=\"/Content/images/Optimized/Icons/icon_floor_new.svg?5941d1\"/>\n",
      "<span>122 m²</span>\n",
      "</span>\n",
      "</div>\n",
      "</div>\n",
      "</a>\n",
      "</div>\n"
     ]
    }
   ],
   "source": [
    "print(listings)\n"
   ]
  },
  {
   "cell_type": "code",
   "execution_count": 24,
   "metadata": {},
   "outputs": [
    {
     "name": "stdout",
     "output_type": "stream",
     "text": [
      "None\n"
     ]
    }
   ],
   "source": [
    "print(soup.select_one('.DatesRedsea js_resultTile'))"
   ]
  },
  {
   "cell_type": "code",
   "execution_count": null,
   "metadata": {},
   "outputs": [],
   "source": []
  }
 ],
 "metadata": {
  "kernelspec": {
   "display_name": "Python 3",
   "language": "python",
   "name": "python3"
  },
  "language_info": {
   "codemirror_mode": {
    "name": "ipython",
    "version": 3
   },
   "file_extension": ".py",
   "mimetype": "text/x-python",
   "name": "python",
   "nbconvert_exporter": "python",
   "pygments_lexer": "ipython3",
   "version": "3.6.4"
  }
 },
 "nbformat": 4,
 "nbformat_minor": 2
}
