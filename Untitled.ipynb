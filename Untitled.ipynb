{
 "cells": [
  {
   "cell_type": "code",
   "execution_count": 41,
   "metadata": {},
   "outputs": [],
   "source": [
    "import pandas as pd\n",
    "import seaborn as sns\n",
    "from bs4 import BeautifulSoup as BS\n",
    "import requests as rq\n"
   ]
  },
  {
   "cell_type": "code",
   "execution_count": 42,
   "metadata": {},
   "outputs": [],
   "source": [
    "base_url_1 = 'https://www.property24.com/apartments-for-sale/'\n",
    "base_url_2 = '/johannesburg/gauteng/5846'\n",
    "n = 1\n",
    "pager = 'p'+str(n)\n",
    "areas = ['rosebank','norwood','parktown-north','illovo','hyde-park','parkwood','killarney','craighall-park','saxonworld','houghton-estate']\n",
    "code = ['5846','4363','4391',]"
   ]
  },
  {
   "cell_type": "code",
   "execution_count": 53,
   "metadata": {},
   "outputs": [],
   "source": [
    "page = rq.get('https://www.property24.com/apartments-for-sale/illovo/sandton/gauteng/5833?sp=so%3dPriceLow#SortOrder')"
   ]
  },
  {
   "cell_type": "code",
   "execution_count": 54,
   "metadata": {},
   "outputs": [],
   "source": [
    "soup = BS(page.content,'html.parser')\n",
    "listings = soup.find(itemprop = 'price')"
   ]
  },
  {
   "cell_type": "code",
   "execution_count": 55,
   "metadata": {},
   "outputs": [
    {
     "name": "stdout",
     "output_type": "stream",
     "text": [
      "<span class=\"p24_price\" content=\"770000\" itemprop=\"price\">\n",
      "<meta content=\"ZAR\" itemprop=\"priceCurrency\"/>\n",
      "            R 770 000\n",
      "        </span>\n"
     ]
    }
   ],
   "source": [
    "print(listings)"
   ]
  },
  {
   "cell_type": "code",
   "execution_count": null,
   "metadata": {},
   "outputs": [],
   "source": []
  }
 ],
 "metadata": {
  "kernelspec": {
   "display_name": "Python 3",
   "language": "python",
   "name": "python3"
  },
  "language_info": {
   "codemirror_mode": {
    "name": "ipython",
    "version": 3
   },
   "file_extension": ".py",
   "mimetype": "text/x-python",
   "name": "python",
   "nbconvert_exporter": "python",
   "pygments_lexer": "ipython3",
   "version": "3.6.6"
  }
 },
 "nbformat": 4,
 "nbformat_minor": 2
}
